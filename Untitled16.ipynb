{
  "nbformat": 4,
  "nbformat_minor": 0,
  "metadata": {
    "colab": {
      "provenance": [],
      "authorship_tag": "ABX9TyNY5bLDzx6fAaA9MUdvWh0a",
      "include_colab_link": true
    },
    "kernelspec": {
      "name": "python3",
      "display_name": "Python 3"
    },
    "language_info": {
      "name": "python"
    }
  },
  "cells": [
    {
      "cell_type": "markdown",
      "metadata": {
        "id": "view-in-github",
        "colab_type": "text"
      },
      "source": [
        "<a href=\"https://colab.research.google.com/github/leandrolima25prog/Desafios-Python/blob/main/Untitled16.ipynb\" target=\"_parent\"><img src=\"https://colab.research.google.com/assets/colab-badge.svg\" alt=\"Open In Colab\"/></a>"
      ]
    },
    {
      "cell_type": "code",
      "source": [
        "#pedir o valor de um ângulo e mostrar o seno, cosseno e tangente desse ângulo\n",
        "import math\n",
        "angulo = float(input('Digite o ângulo que você deseja: '))\n",
        "seno = math.sin(math.radians(angulo))\n",
        "print('O ângulo de {} tem o SENO de {:.2f}'.format(angulo, seno))\n",
        "cosseno = math.cos(math.radians(angulo))\n",
        "print('O ângulo de {} tem o COSSENO de {:.2f}'.format(angulo, cosseno))\n",
        "tangente = math.tan(math.radians(angulo))\n",
        "print('O ângulo de {} tem a TANGENTE de {:.2f}'.format(angulo, tangente))\n",
        "\n"
      ],
      "metadata": {
        "colab": {
          "base_uri": "https://localhost:8080/"
        },
        "id": "1yrAtDx4qmcK",
        "outputId": "ed707d3e-a090-41de-d334-b7bfd58ea05e"
      },
      "execution_count": 73,
      "outputs": [
        {
          "output_type": "stream",
          "name": "stdout",
          "text": [
            "Digite o ângulo que você deseja: 30\n",
            "O ângulo de 30.0 tem o SENO de 0.50\n",
            "O ângulo de 30.0 tem o COSSENO de 0.87\n",
            "O ângulo de 30.0 tem a TANGENTE de 0.58\n"
          ]
        }
      ]
    }
  ]
}