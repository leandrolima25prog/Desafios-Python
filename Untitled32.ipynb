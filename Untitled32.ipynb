{
  "nbformat": 4,
  "nbformat_minor": 0,
  "metadata": {
    "colab": {
      "provenance": [],
      "authorship_tag": "ABX9TyNy5JQmMqNLZt62JPXLSdjG",
      "include_colab_link": true
    },
    "kernelspec": {
      "name": "python3",
      "display_name": "Python 3"
    },
    "language_info": {
      "name": "python"
    }
  },
  "cells": [
    {
      "cell_type": "markdown",
      "metadata": {
        "id": "view-in-github",
        "colab_type": "text"
      },
      "source": [
        "<a href=\"https://colab.research.google.com/github/leandrolima25prog/Desafios-Python/blob/main/Untitled32.ipynb\" target=\"_parent\"><img src=\"https://colab.research.google.com/assets/colab-badge.svg\" alt=\"Open In Colab\"/></a>"
      ]
    },
    {
      "cell_type": "code",
      "source": [
        "#Escreva um programa que pergunte o salário de um funcionário e calcule o valor do seu aumento.\n",
        "#Para salários superiores a R$1250,00, calcule um aumento de 10%. Para os inferiores ou iguais, o aumento é de 15%.\n",
        "\n",
        "salario = float(input('Qual o salário do funcionário? R$ '))\n",
        "if salario > 1250:\n",
        "    aumento = salario + (salario * 10 / 100)\n",
        "else:\n",
        "    aumento = salario + (salario * 15 / 100)\n",
        "print('Quem ganhava R${:.2f} passa a ganhar R${:.2f} agora.'.format(salario, aumento))"
      ],
      "metadata": {
        "colab": {
          "base_uri": "https://localhost:8080/"
        },
        "id": "3Pu2cIAd88vb",
        "outputId": "290a6aed-f546-4b2b-fea3-666ccde7c7be"
      },
      "execution_count": 23,
      "outputs": [
        {
          "output_type": "stream",
          "name": "stdout",
          "text": [
            "Qual o salário do funcionário? R$ 5000\n",
            "Quem ganhava R$5000.00 passa a ganhar R$5500.00 agora.\n"
          ]
        }
      ]
    }
  ]
}