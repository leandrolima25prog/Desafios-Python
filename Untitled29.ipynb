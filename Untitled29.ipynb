{
  "nbformat": 4,
  "nbformat_minor": 0,
  "metadata": {
    "colab": {
      "provenance": [],
      "authorship_tag": "ABX9TyPG6lzG7C7TJAdzJs36eD/I",
      "include_colab_link": true
    },
    "kernelspec": {
      "name": "python3",
      "display_name": "Python 3"
    },
    "language_info": {
      "name": "python"
    }
  },
  "cells": [
    {
      "cell_type": "markdown",
      "metadata": {
        "id": "view-in-github",
        "colab_type": "text"
      },
      "source": [
        "<a href=\"https://colab.research.google.com/github/leandrolima25prog/Desafios-Python/blob/main/Untitled29.ipynb\" target=\"_parent\"><img src=\"https://colab.research.google.com/assets/colab-badge.svg\" alt=\"Open In Colab\"/></a>"
      ]
    },
    {
      "cell_type": "code",
      "source": [
        "#Desenvolva um programa que pergunte a distância de uma viagem em Km. Calcule o preço da passagem,\n",
        "#cobrando R$0,50 por Km para viagens de até 200Km e R$0,45 parta viagens mais longas.\n",
        "\n",
        "distancia = float(input('Qual é a distância da sua viagem? '))\n",
        "print('Você está prestes a começar uma viagem de {}Km.'.format(distancia))\n",
        "if distancia <= 200:\n",
        "    preço = distancia * 0.50\n",
        "else:\n",
        "    preço = distancia * 0.45\n",
        "print('E o preço da sua passagem será de R${:.2f}'.format(preço))"
      ],
      "metadata": {
        "colab": {
          "base_uri": "https://localhost:8080/"
        },
        "id": "3Pu2cIAd88vb",
        "outputId": "93cad479-a4e6-45dd-d29c-f4dc904bb668"
      },
      "execution_count": 14,
      "outputs": [
        {
          "output_type": "stream",
          "name": "stdout",
          "text": [
            "Qual é a distância da sua viagem? 230\n",
            "Você está prestes a começar uma viagem de 230.0Km.\n",
            "E o preço da sua passagem será de R$103.50\n"
          ]
        }
      ]
    }
  ]
}