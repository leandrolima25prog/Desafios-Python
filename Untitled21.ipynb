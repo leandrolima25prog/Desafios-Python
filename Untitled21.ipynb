{
  "nbformat": 4,
  "nbformat_minor": 0,
  "metadata": {
    "colab": {
      "provenance": [],
      "authorship_tag": "ABX9TyPVM/XnejuS9QNwneC8bhEC",
      "include_colab_link": true
    },
    "kernelspec": {
      "name": "python3",
      "display_name": "Python 3"
    },
    "language_info": {
      "name": "python"
    }
  },
  "cells": [
    {
      "cell_type": "markdown",
      "metadata": {
        "id": "view-in-github",
        "colab_type": "text"
      },
      "source": [
        "<a href=\"https://colab.research.google.com/github/leandrolima25prog/Desafios-Python/blob/main/Untitled21.ipynb\" target=\"_parent\"><img src=\"https://colab.research.google.com/assets/colab-badge.svg\" alt=\"Open In Colab\"/></a>"
      ]
    },
    {
      "cell_type": "code",
      "execution_count": 20,
      "metadata": {
        "colab": {
          "base_uri": "https://localhost:8080/"
        },
        "id": "t27T8oRBzP5Q",
        "outputId": "7aeac80a-6284-4c2e-ca36-d092499d8541"
      },
      "outputs": [
        {
          "output_type": "stream",
          "name": "stdout",
          "text": [
            "Digite um número; 56\n",
            "Analisando o número 56\n",
            "Unidade 6\n",
            "Dezena 5\n",
            "Centena 0\n",
            "Milhar 0\n"
          ]
        }
      ],
      "source": [
        "num = int(input('Digite um número; '))\n",
        "u = num // 1 % 10\n",
        "d = num // 10 % 10\n",
        "c = num // 100 % 10\n",
        "m = num // 1000 % 10\n",
        "print('Analisando o número {}'.format(num))\n",
        "print('Unidade {}'.format(u))\n",
        "print('Dezena {}'.format(d))\n",
        "print('Centena {}'.format(c))\n",
        "print('Milhar {}'.format(m))\n",
        "\n"
      ]
    }
  ]
}