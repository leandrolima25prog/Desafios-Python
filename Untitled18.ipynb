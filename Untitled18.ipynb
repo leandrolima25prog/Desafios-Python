{
  "nbformat": 4,
  "nbformat_minor": 0,
  "metadata": {
    "colab": {
      "provenance": [],
      "authorship_tag": "ABX9TyPBj5P4RQtmjEcMTB1D+Hoe",
      "include_colab_link": true
    },
    "kernelspec": {
      "name": "python3",
      "display_name": "Python 3"
    },
    "language_info": {
      "name": "python"
    }
  },
  "cells": [
    {
      "cell_type": "markdown",
      "metadata": {
        "id": "view-in-github",
        "colab_type": "text"
      },
      "source": [
        "<a href=\"https://colab.research.google.com/github/leandrolima25prog/Desafios-Python/blob/main/Untitled18.ipynb\" target=\"_parent\"><img src=\"https://colab.research.google.com/assets/colab-badge.svg\" alt=\"Open In Colab\"/></a>"
      ]
    },
    {
      "cell_type": "code",
      "source": [
        "# sortear um nome apartir de nomes digitads utilizando o (random)\n",
        "import random\n",
        "a1 = input('Digite o nome do primeiro aluno: ')\n",
        "a2 = input('Digite o nome do segundo aluno: ')\n",
        "a3 = input('Digite o nome do terceiro aluno: ')\n",
        "a4 = input('Digite o nome do quarto aluno: ')\n",
        "\n",
        "lista = [a1, a2, a3, a4]\n",
        "escolhido = random.choice(lista)\n",
        "print('O aluno(a) escolhido(a) foi {}'.format(escolhido))\n"
      ],
      "metadata": {
        "colab": {
          "base_uri": "https://localhost:8080/"
        },
        "id": "b8RhQXP4tKoL",
        "outputId": "7a6c5453-9116-47ed-ed6e-2a0ed00f9f71"
      },
      "execution_count": 78,
      "outputs": [
        {
          "output_type": "stream",
          "name": "stdout",
          "text": [
            "Digite o nome do primeiro aluno: ana\n",
            "Digite o nome do segundo aluno: maria\n",
            "Digite o nome do terceiro aluno: palo\n",
            "Digite o nome do quarto aluno: teves\n",
            "O aluno(a) escolhido(a) foi maria\n"
          ]
        }
      ]
    }
  ]
}