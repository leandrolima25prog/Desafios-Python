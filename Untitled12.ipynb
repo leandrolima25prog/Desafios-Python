{
  "nbformat": 4,
  "nbformat_minor": 0,
  "metadata": {
    "colab": {
      "provenance": [],
      "authorship_tag": "ABX9TyMNJ8ZDTfYLCTM6uZv4jXTx",
      "include_colab_link": true
    },
    "kernelspec": {
      "name": "python3",
      "display_name": "Python 3"
    },
    "language_info": {
      "name": "python"
    }
  },
  "cells": [
    {
      "cell_type": "markdown",
      "metadata": {
        "id": "view-in-github",
        "colab_type": "text"
      },
      "source": [
        "<a href=\"https://colab.research.google.com/github/leandrolima25prog/Desafios-Python/blob/main/Untitled12.ipynb\" target=\"_parent\"><img src=\"https://colab.research.google.com/assets/colab-badge.svg\" alt=\"Open In Colab\"/></a>"
      ]
    },
    {
      "cell_type": "code",
      "source": [
        "# calcular o novo preço do produto com 5% de desconto\n",
        "valor = float(input(\"Digite o preço do produto \"))\n",
        "precodesconto = valor - (valor * 5 / 100)\n",
        "print(\"Você iria pagar R$\", valor, \"com o desconto, você vai pagar apenas R$\", precodesconto)"
      ],
      "metadata": {
        "colab": {
          "base_uri": "https://localhost:8080/"
        },
        "id": "JUz4PCwAN0kM",
        "outputId": "65d97edc-1e1a-45c1-cdba-801b8bba07ca"
      },
      "execution_count": 54,
      "outputs": [
        {
          "output_type": "stream",
          "name": "stdout",
          "text": [
            "Digite o preço do produto 200\n",
            "Você iria pagar R$ 200.0 com o desconto, você vai pagar apenas R$ 190.0\n"
          ]
        }
      ]
    }
  ]
}