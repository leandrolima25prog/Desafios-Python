{
  "nbformat": 4,
  "nbformat_minor": 0,
  "metadata": {
    "colab": {
      "provenance": [],
      "authorship_tag": "ABX9TyN1hIekhoo6Klyt6//jiyML",
      "include_colab_link": true
    },
    "kernelspec": {
      "name": "python3",
      "display_name": "Python 3"
    },
    "language_info": {
      "name": "python"
    }
  },
  "cells": [
    {
      "cell_type": "markdown",
      "metadata": {
        "id": "view-in-github",
        "colab_type": "text"
      },
      "source": [
        "<a href=\"https://colab.research.google.com/github/leandrolima25prog/Desafios-Python/blob/main/Untitled11.ipynb\" target=\"_parent\"><img src=\"https://colab.research.google.com/assets/colab-badge.svg\" alt=\"Open In Colab\"/></a>"
      ]
    },
    {
      "cell_type": "code",
      "source": [
        "# calcular a área da parede e a qantidade de tinta para pintar\n",
        "# sabendo que 1 litro de tinta faz uma área de 2m²\n",
        "alturadaparede = float(input('Qual a altura da parede? '))\n",
        "larguradaparede = float(input('Qual a largura da parede? '))\n",
        "area = alturadaparede * larguradaparede\n",
        "print(\"A área da parede é: \", area,\"m²\")\n",
        "qntdtinta = area / 2\n",
        "print(\"A quantidade de tinta para pintar a parede é: \",qntdtinta, \"litros\")"
      ],
      "metadata": {
        "colab": {
          "base_uri": "https://localhost:8080/"
        },
        "id": "JUz4PCwAN0kM",
        "outputId": "9637dbd0-7e52-4b97-97bc-53c6a74e31bb"
      },
      "execution_count": 57,
      "outputs": [
        {
          "output_type": "stream",
          "name": "stdout",
          "text": [
            "Qual a altura da parede? 2\n",
            "Qual a largura da parede? 4\n",
            "A área da parede é:  8.0 m²\n",
            "A quantidade de tinta para pintar a parede é:  4.0 litros\n"
          ]
        }
      ]
    }
  ]
}