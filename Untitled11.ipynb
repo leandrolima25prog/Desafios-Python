{
  "nbformat": 4,
  "nbformat_minor": 0,
  "metadata": {
    "colab": {
      "provenance": [],
      "authorship_tag": "ABX9TyOEGxED64XU6oERG+WOmakH",
      "include_colab_link": true
    },
    "kernelspec": {
      "name": "python3",
      "display_name": "Python 3"
    },
    "language_info": {
      "name": "python"
    }
  },
  "cells": [
    {
      "cell_type": "markdown",
      "metadata": {
        "id": "view-in-github",
        "colab_type": "text"
      },
      "source": [
        "<a href=\"https://colab.research.google.com/github/leandrolima25prog/Desafios-Python/blob/main/Untitled11.ipynb\" target=\"_parent\"><img src=\"https://colab.research.google.com/assets/colab-badge.svg\" alt=\"Open In Colab\"/></a>"
      ]
    },
    {
      "cell_type": "code",
      "source": [
        "# calcular a área da parede e a qantidade de tinta para pintar\n",
        "# sabendo que 1 litro de tinta faz uma área de 2m²\n",
        "alturadaparede = float(input('Qual a altura da parede? '))\n",
        "larguradaparede = float(input('Qual a largura da parede? '))\n",
        "area = alturadaparede * larguradaparede\n",
        "print(area)\n",
        "qntdtinta = area / 2\n",
        "print(\"A quantidade de tinta para pintar a parede é: \",qntdtinta, \"litros\")"
      ],
      "metadata": {
        "colab": {
          "base_uri": "https://localhost:8080/"
        },
        "id": "JUz4PCwAN0kM",
        "outputId": "b5ab61a6-125f-4052-861d-aeadd487a617"
      },
      "execution_count": 52,
      "outputs": [
        {
          "output_type": "stream",
          "name": "stdout",
          "text": [
            "Qual a altura da parede? 3\n",
            "Qual a largura da parede? 4\n",
            "12.0\n",
            "A quantidade de tinta para pintar a parede é:  6.0 litros\n"
          ]
        }
      ]
    }
  ]
}