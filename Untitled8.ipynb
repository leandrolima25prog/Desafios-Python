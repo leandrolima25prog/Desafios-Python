{
  "nbformat": 4,
  "nbformat_minor": 0,
  "metadata": {
    "colab": {
      "provenance": [],
      "authorship_tag": "ABX9TyM2BH+gYmEo8TzD3wvTnpsL",
      "include_colab_link": true
    },
    "kernelspec": {
      "name": "python3",
      "display_name": "Python 3"
    },
    "language_info": {
      "name": "python"
    }
  },
  "cells": [
    {
      "cell_type": "markdown",
      "metadata": {
        "id": "view-in-github",
        "colab_type": "text"
      },
      "source": [
        "<a href=\"https://colab.research.google.com/github/leandrolima25prog/Desafios-Python/blob/main/Untitled8.ipynb\" target=\"_parent\"><img src=\"https://colab.research.google.com/assets/colab-badge.svg\" alt=\"Open In Colab\"/></a>"
      ]
    },
    {
      "cell_type": "code",
      "source": [
        "# receber valor em metro e converter para centímetro e milímetros\n",
        "tamanho = float(input(\"Digite o tamanho \"))\n",
        "cent = tamanho * 100\n",
        "mili = tamanho * 1000\n",
        "print(f\"O tamanho em centímetros é {cent} e em milímetros é {mili}\")"
      ],
      "metadata": {
        "colab": {
          "base_uri": "https://localhost:8080/"
        },
        "id": "JUz4PCwAN0kM",
        "outputId": "6ccf35cb-53b6-49ae-9034-85127cfdded6"
      },
      "execution_count": 41,
      "outputs": [
        {
          "output_type": "stream",
          "name": "stdout",
          "text": [
            "Digite o tamanho 1.60\n",
            "O tamanho em centímetros é 160.0 e em milímetros é 1600.0\n"
          ]
        }
      ]
    }
  ]
}