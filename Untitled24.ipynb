{
  "nbformat": 4,
  "nbformat_minor": 0,
  "metadata": {
    "colab": {
      "provenance": [],
      "authorship_tag": "ABX9TyO2Mytlv8HmDZqTCOWEZXrw",
      "include_colab_link": true
    },
    "kernelspec": {
      "name": "python3",
      "display_name": "Python 3"
    },
    "language_info": {
      "name": "python"
    }
  },
  "cells": [
    {
      "cell_type": "markdown",
      "metadata": {
        "id": "view-in-github",
        "colab_type": "text"
      },
      "source": [
        "<a href=\"https://colab.research.google.com/github/leandrolima25prog/Desafios-Python/blob/main/Untitled24.ipynb\" target=\"_parent\"><img src=\"https://colab.research.google.com/assets/colab-badge.svg\" alt=\"Open In Colab\"/></a>"
      ]
    },
    {
      "cell_type": "code",
      "execution_count": 23,
      "metadata": {
        "colab": {
          "base_uri": "https://localhost:8080/"
        },
        "id": "t27T8oRBzP5Q",
        "outputId": "38fa16fd-958f-47ab-c2a0-0e14e3a507d8"
      },
      "outputs": [
        {
          "output_type": "stream",
          "name": "stdout",
          "text": [
            "Digite uma frase: amaral casou para fazer amanda gastar grana\n",
            "A letra \"A\" aparece 14 vezes na frase.\n",
            "A primeira letra \"A\" apareceu na posição 1\n",
            "A ultima letra \"A\" aparece na posição 43\n"
          ]
        }
      ],
      "source": [
        "# Faça um programa que leia uma frase pelo teclado e mostre quantas vezes aparece a letra “A”,\n",
        "#em que posição ela aparece a primeira vez e em que posição ela aparece a última vez.\n",
        "frase = str(input('Digite uma frase: ')).upper().strip()\n",
        "print('A letra \"A\" aparece {} vezes na frase.'.format(frase.count('A')))\n",
        "print('A primeira letra \"A\" apareceu na posição {}'.format(frase.find('A')+1))\n",
        "print('A ultima letra \"A\" aparece na posição {}'.format(frase.rfind('A')+1))\n",
        "\n",
        "\n"
      ]
    }
  ]
}