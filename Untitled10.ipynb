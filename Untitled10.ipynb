{
  "nbformat": 4,
  "nbformat_minor": 0,
  "metadata": {
    "colab": {
      "provenance": [],
      "authorship_tag": "ABX9TyPKIv4TIJ/EnVgbffSgRqsX",
      "include_colab_link": true
    },
    "kernelspec": {
      "name": "python3",
      "display_name": "Python 3"
    },
    "language_info": {
      "name": "python"
    }
  },
  "cells": [
    {
      "cell_type": "markdown",
      "metadata": {
        "id": "view-in-github",
        "colab_type": "text"
      },
      "source": [
        "<a href=\"https://colab.research.google.com/github/leandrolima25prog/Desafios-Python/blob/main/Untitled10.ipynb\" target=\"_parent\"><img src=\"https://colab.research.google.com/assets/colab-badge.svg\" alt=\"Open In Colab\"/></a>"
      ]
    },
    {
      "cell_type": "code",
      "source": [
        "# conversor de moeda\n",
        "real = float(input(\"Quantos R$,00 você tem? \"))\n",
        "print(real)\n",
        "dolar = real / 5.79\n",
        "print(\"Com R$\", real, \"você pode comprar US$\", \"{:.2f}\".format(dolar))"
      ],
      "metadata": {
        "colab": {
          "base_uri": "https://localhost:8080/"
        },
        "id": "JUz4PCwAN0kM",
        "outputId": "fff20251-b7f5-4713-86fb-b165926ae624"
      },
      "execution_count": 50,
      "outputs": [
        {
          "output_type": "stream",
          "name": "stdout",
          "text": [
            "Quantos R$,00 você tem? 450\n",
            "450.0\n",
            "Com R$ 450.0 você pode comprar US$ 77.72\n"
          ]
        }
      ]
    }
  ]
}