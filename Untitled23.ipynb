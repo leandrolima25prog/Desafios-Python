{
  "nbformat": 4,
  "nbformat_minor": 0,
  "metadata": {
    "colab": {
      "provenance": [],
      "authorship_tag": "ABX9TyP+bQpdQEUcd2Law6qzGzX5",
      "include_colab_link": true
    },
    "kernelspec": {
      "name": "python3",
      "display_name": "Python 3"
    },
    "language_info": {
      "name": "python"
    }
  },
  "cells": [
    {
      "cell_type": "markdown",
      "metadata": {
        "id": "view-in-github",
        "colab_type": "text"
      },
      "source": [
        "<a href=\"https://colab.research.google.com/github/leandrolima25prog/Desafios-Python/blob/main/Untitled23.ipynb\" target=\"_parent\"><img src=\"https://colab.research.google.com/assets/colab-badge.svg\" alt=\"Open In Colab\"/></a>"
      ]
    },
    {
      "cell_type": "code",
      "execution_count": 22,
      "metadata": {
        "colab": {
          "base_uri": "https://localhost:8080/"
        },
        "id": "t27T8oRBzP5Q",
        "outputId": "e8155cd7-2b87-4863-b60b-30b469b8028f"
      },
      "outputs": [
        {
          "output_type": "stream",
          "name": "stdout",
          "text": [
            "Digite seu nome: leandro lima da silva\n",
            "Seu nome tem Silva? True\n"
          ]
        }
      ],
      "source": [
        "#Crie um programa que leia o nome de uma pessoa e diga se ela tem “SILVA” no nome.\n",
        "nome = str(input('Digite seu nome: ')).strip()\n",
        "print('Seu nome tem Silva? {}'.format('silva' in nome.lower()))\n"
      ]
    }
  ]
}