{
  "nbformat": 4,
  "nbformat_minor": 0,
  "metadata": {
    "colab": {
      "provenance": [],
      "authorship_tag": "ABX9TyPOvEh+uaGSw4ZxoFsOWBAL",
      "include_colab_link": true
    },
    "kernelspec": {
      "name": "python3",
      "display_name": "Python 3"
    },
    "language_info": {
      "name": "python"
    }
  },
  "cells": [
    {
      "cell_type": "markdown",
      "metadata": {
        "id": "view-in-github",
        "colab_type": "text"
      },
      "source": [
        "<a href=\"https://colab.research.google.com/github/leandrolima25prog/Desafios-Python/blob/main/Untitled25.ipynb\" target=\"_parent\"><img src=\"https://colab.research.google.com/assets/colab-badge.svg\" alt=\"Open In Colab\"/></a>"
      ]
    },
    {
      "cell_type": "code",
      "execution_count": 25,
      "metadata": {
        "colab": {
          "base_uri": "https://localhost:8080/"
        },
        "id": "t27T8oRBzP5Q",
        "outputId": "a77faa4b-ccfa-47c1-9f65-b21ec85cfed3"
      },
      "outputs": [
        {
          "output_type": "stream",
          "name": "stdout",
          "text": [
            "Digite seu nome completo: Leandro Lima Silva de Camargo\n",
            "Nice to meet you Leandro welcome!\n",
            "Seu primeiro nome é Leandro\n",
            "Seu último nome é Camargo\n"
          ]
        }
      ],
      "source": [
        "# Faça um programa que leia o nome completo de uma pessoa, mostrando em seguida o primeiro e o último nome separadamente.\n",
        "nome = str(input('Digite seu nome completo: ')).strip()\n",
        "nome = nome.split()\n",
        "print('Nice to meet you', nome[0], 'welcome!')\n",
        "print('Seu primeiro nome é {}'.format(nome[0]))\n",
        "print('Seu último nome é {}'.format(nome[len(nome)-1]))\n",
        "\n"
      ]
    }
  ]
}