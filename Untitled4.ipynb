{
  "nbformat": 4,
  "nbformat_minor": 0,
  "metadata": {
    "colab": {
      "provenance": [],
      "authorship_tag": "ABX9TyNk4xrOZTkEl2CzAg5rTn5m",
      "include_colab_link": true
    },
    "kernelspec": {
      "name": "python3",
      "display_name": "Python 3"
    },
    "language_info": {
      "name": "python"
    }
  },
  "cells": [
    {
      "cell_type": "markdown",
      "metadata": {
        "id": "view-in-github",
        "colab_type": "text"
      },
      "source": [
        "<a href=\"https://colab.research.google.com/github/leandrolima25prog/Desafios-Python/blob/main/Untitled4.ipynb\" target=\"_parent\"><img src=\"https://colab.research.google.com/assets/colab-badge.svg\" alt=\"Open In Colab\"/></a>"
      ]
    },
    {
      "cell_type": "code",
      "source": [
        "# tipos primitivos\n",
        "n = input(\"Digite algo \")\n",
        "print(\"O tipo primitivo é: \", type(n))\n",
        "print(\"Começa com letra maiúscula? \", n .isupper())\n",
        "print(\"Começa com letra minúscula? \", n .islower())\n",
        "print(\"É alphanumérico?\", n .isalnum())\n",
        "print(\"É um número? \", n.isnumeric())\n",
        "print(\"É uma letra? \", n .isalpha())\n",
        "print(\"É um espaço? \", n. isspace())"
      ],
      "metadata": {
        "colab": {
          "base_uri": "https://localhost:8080/"
        },
        "id": "JUz4PCwAN0kM",
        "outputId": "69bd766d-5a28-432a-e202-aa77438231f3"
      },
      "execution_count": 33,
      "outputs": [
        {
          "output_type": "stream",
          "name": "stdout",
          "text": [
            "Digite algo m\n",
            "O tipo primitivo é:  <class 'str'>\n",
            "Começa com letra maiúscula?  False\n",
            "Começa com letra minúscula?  True\n",
            "É alphanumérico? True\n",
            "É um número?  False\n",
            "É uma letra?  True\n",
            "É um espaço?  False\n"
          ]
        }
      ]
    }
  ]
}