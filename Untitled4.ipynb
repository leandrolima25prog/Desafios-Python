{
  "nbformat": 4,
  "nbformat_minor": 0,
  "metadata": {
    "colab": {
      "provenance": [],
      "authorship_tag": "ABX9TyP9iNmgOEwfDcM//4M5+M+u",
      "include_colab_link": true
    },
    "kernelspec": {
      "name": "python3",
      "display_name": "Python 3"
    },
    "language_info": {
      "name": "python"
    }
  },
  "cells": [
    {
      "cell_type": "markdown",
      "metadata": {
        "id": "view-in-github",
        "colab_type": "text"
      },
      "source": [
        "<a href=\"https://colab.research.google.com/github/leandrolima25prog/Desafios-Python/blob/main/Untitled4.ipynb\" target=\"_parent\"><img src=\"https://colab.research.google.com/assets/colab-badge.svg\" alt=\"Open In Colab\"/></a>"
      ]
    },
    {
      "cell_type": "code",
      "source": [
        "# tipos primitivos\n",
        "n = input(\"Digite algo \")\n",
        "print(\"O tipo primitivo é: \", type(n))\n",
        "print(\"Começa com letra maiúscula? \", n .isupper())\n",
        "print(\"É alphanumérico?\", n .isalnum())\n",
        "print(\"É um número? \", n.isnumeric())\n",
        "print(\"É uma letra? \", n .isalpha())\n",
        "print(\"É um espaço? \", n. isspace())"
      ],
      "metadata": {
        "colab": {
          "base_uri": "https://localhost:8080/"
        },
        "id": "JUz4PCwAN0kM",
        "outputId": "824e2323-f0de-47f0-cfd7-1023f9c883c8"
      },
      "execution_count": 32,
      "outputs": [
        {
          "output_type": "stream",
          "name": "stdout",
          "text": [
            "Digite algo l\n",
            "O tipo primitivo é:  <class 'str'>\n",
            "Começa com letra maiúscula?  False\n",
            "É alphanumérico? True\n",
            "É um número?  False\n",
            "É uma letra?  True\n",
            "É um espaço?  False\n"
          ]
        }
      ]
    }
  ]
}