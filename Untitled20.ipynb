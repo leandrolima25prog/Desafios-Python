{
  "nbformat": 4,
  "nbformat_minor": 0,
  "metadata": {
    "colab": {
      "provenance": [],
      "authorship_tag": "ABX9TyMtNFfoepEM3DbIE7J8luND",
      "include_colab_link": true
    },
    "kernelspec": {
      "name": "python3",
      "display_name": "Python 3"
    },
    "language_info": {
      "name": "python"
    }
  },
  "cells": [
    {
      "cell_type": "markdown",
      "metadata": {
        "id": "view-in-github",
        "colab_type": "text"
      },
      "source": [
        "<a href=\"https://colab.research.google.com/github/leandrolima25prog/Desafios-Python/blob/main/Untitled20.ipynb\" target=\"_parent\"><img src=\"https://colab.research.google.com/assets/colab-badge.svg\" alt=\"Open In Colab\"/></a>"
      ]
    },
    {
      "cell_type": "code",
      "execution_count": 15,
      "metadata": {
        "colab": {
          "base_uri": "https://localhost:8080/"
        },
        "id": "t27T8oRBzP5Q",
        "outputId": "d74bde89-5522-46bc-e9ca-a9d5fd01afea"
      },
      "outputs": [
        {
          "output_type": "stream",
          "name": "stdout",
          "text": [
            "Digite seu nome: Leandro Lima da Silva\n",
            "Seu nome em maiúsculas é: LEANDRO LIMA DA SILVA\n",
            "Seu nome em menúsculas é:  leandro lima da silva\n",
            "Seu nome tem 18 letras\n",
            "Seu primeiro nome é: Leandro e ele tem 7 letras\n"
          ]
        }
      ],
      "source": [
        "#Manipulando textos\n",
        "nome = input('Digite seu nome: ').strip()\n",
        "print('Seu nome em maiúsculas é:',nome.upper())\n",
        "print('Seu nome em menúsculas é: ',nome.lower())\n",
        "print('Seu nome tem',len(nome) - nome.count(' '),'letras')\n",
        "print('Seu primeiro nome é:',nome.split()[0],'e ele tem',len(nome.split()[0]),'letras')\n",
        "\n",
        "\n"
      ]
    }
  ]
}