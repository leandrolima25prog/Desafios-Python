{
  "nbformat": 4,
  "nbformat_minor": 0,
  "metadata": {
    "colab": {
      "provenance": [],
      "authorship_tag": "ABX9TyPj3JHTBkurDNha9EtRlB/f",
      "include_colab_link": true
    },
    "kernelspec": {
      "name": "python3",
      "display_name": "Python 3"
    },
    "language_info": {
      "name": "python"
    }
  },
  "cells": [
    {
      "cell_type": "markdown",
      "metadata": {
        "id": "view-in-github",
        "colab_type": "text"
      },
      "source": [
        "<a href=\"https://colab.research.google.com/github/leandrolima25prog/Desafios-Python/blob/main/Untitled28.ipynb\" target=\"_parent\"><img src=\"https://colab.research.google.com/assets/colab-badge.svg\" alt=\"Open In Colab\"/></a>"
      ]
    },
    {
      "cell_type": "code",
      "source": [
        "#Crie um programa que leia um número inteiro e mostre na tela se ele é PAR ou ÍMPAR.\n",
        "\n",
        "num = int(input('Digite um número: '))\n",
        "resultado = num % 2\n",
        "if resultado == 0:\n",
        "    print('O número {} é PAR'.format(num))\n",
        "else:\n",
        "    print('O número {} é ÍMPAR'.format(num))"
      ],
      "metadata": {
        "colab": {
          "base_uri": "https://localhost:8080/"
        },
        "id": "3Pu2cIAd88vb",
        "outputId": "15f5a740-77e0-4b3d-fd10-d913ad217354"
      },
      "execution_count": 13,
      "outputs": [
        {
          "output_type": "stream",
          "name": "stdout",
          "text": [
            "Digite um número: 7\n",
            "O número 7 é ÍMPAR\n"
          ]
        }
      ]
    }
  ]
}