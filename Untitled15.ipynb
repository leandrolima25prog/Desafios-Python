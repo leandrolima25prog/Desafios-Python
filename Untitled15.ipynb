{
  "nbformat": 4,
  "nbformat_minor": 0,
  "metadata": {
    "colab": {
      "provenance": [],
      "authorship_tag": "ABX9TyNnmVgeLxXLCZ3bKS4ZSwaD",
      "include_colab_link": true
    },
    "kernelspec": {
      "name": "python3",
      "display_name": "Python 3"
    },
    "language_info": {
      "name": "python"
    }
  },
  "cells": [
    {
      "cell_type": "markdown",
      "metadata": {
        "id": "view-in-github",
        "colab_type": "text"
      },
      "source": [
        "<a href=\"https://colab.research.google.com/github/leandrolima25prog/Desafios-Python/blob/main/Untitled15.ipynb\" target=\"_parent\"><img src=\"https://colab.research.google.com/assets/colab-badge.svg\" alt=\"Open In Colab\"/></a>"
      ]
    },
    {
      "cell_type": "code",
      "source": [
        "#calcular a hipotensa apartir dos valores dos catetos\n",
        "'''co = float(input('Comprimento do cateto oposto: '))\n",
        "ca = float(input('Comprimento do cateto adjacente: '))\n",
        "hi = (co ** 2 + ca ** 2) ** (1/2)\n",
        "print('A hipotenusa vai medir {:.2f}'.format(hi))'''\n",
        "#executando com o módulo math\n",
        "import math\n",
        "co = float(input('Comprimento do cateto oposto: '))\n",
        "ca = float(input('Comprimento do cateto adjacente: '))\n",
        "hi = math.hypot(co, ca)\n",
        "print('A hipotenusa vai medir {:.2f}'.format(hi))\n"
      ],
      "metadata": {
        "colab": {
          "base_uri": "https://localhost:8080/"
        },
        "id": "f-SUL9WiPDFB",
        "outputId": "cf72656c-12bb-42a8-c64d-8c381dafdb17"
      },
      "execution_count": 69,
      "outputs": [
        {
          "output_type": "stream",
          "name": "stdout",
          "text": [
            "Comprimento do cateto oposto: 5\n",
            "Comprimento do cateto adjacente: 6\n",
            "A hipotenusa vai medir 7.81\n"
          ]
        }
      ]
    }
  ]
}