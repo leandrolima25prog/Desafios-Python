{
  "nbformat": 4,
  "nbformat_minor": 0,
  "metadata": {
    "colab": {
      "provenance": [],
      "authorship_tag": "ABX9TyOVZk73eNq8JKzInDoe90Kt",
      "include_colab_link": true
    },
    "kernelspec": {
      "name": "python3",
      "display_name": "Python 3"
    },
    "language_info": {
      "name": "python"
    }
  },
  "cells": [
    {
      "cell_type": "markdown",
      "metadata": {
        "id": "view-in-github",
        "colab_type": "text"
      },
      "source": [
        "<a href=\"https://colab.research.google.com/github/leandrolima25prog/Desafios-Python/blob/main/Untitled30.ipynb\" target=\"_parent\"><img src=\"https://colab.research.google.com/assets/colab-badge.svg\" alt=\"Open In Colab\"/></a>"
      ]
    },
    {
      "cell_type": "code",
      "source": [
        "#Faça um programa que leia um ano qualquer e mostre se ele é bissexto.\n",
        "from datetime import date\n",
        "\n",
        "ano = int(input('Digite um ano ou Coloque 0 para analisar o ano atual: ' ))\n",
        "if ano == 0:\n",
        "  ano = date.today().year\n",
        "if ano % 4 == 0 and ano % 100 != 0 or ano % 400 == 0:\n",
        "    print('O ano {} é bissexto'.format(ano))\n",
        "else:\n",
        "  print('O ano {} NÃO é bissexto'.format(ano))"
      ],
      "metadata": {
        "colab": {
          "base_uri": "https://localhost:8080/"
        },
        "id": "3Pu2cIAd88vb",
        "outputId": "dff3600c-4463-461a-ff2e-af1a124ccf62"
      },
      "execution_count": 19,
      "outputs": [
        {
          "output_type": "stream",
          "name": "stdout",
          "text": [
            "Digite um ano ou Coloque 0 para analisar o ano atual: 1326\n",
            "O ano 1326 NÃO é bissexto\n"
          ]
        }
      ]
    }
  ]
}