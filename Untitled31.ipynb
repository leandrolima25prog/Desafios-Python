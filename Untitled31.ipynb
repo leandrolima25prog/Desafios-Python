{
  "nbformat": 4,
  "nbformat_minor": 0,
  "metadata": {
    "colab": {
      "provenance": [],
      "authorship_tag": "ABX9TyMXCjn0Z6TfqyHAzOtQoqGw",
      "include_colab_link": true
    },
    "kernelspec": {
      "name": "python3",
      "display_name": "Python 3"
    },
    "language_info": {
      "name": "python"
    }
  },
  "cells": [
    {
      "cell_type": "markdown",
      "metadata": {
        "id": "view-in-github",
        "colab_type": "text"
      },
      "source": [
        "<a href=\"https://colab.research.google.com/github/leandrolima25prog/Desafios-Python/blob/main/Untitled31.ipynb\" target=\"_parent\"><img src=\"https://colab.research.google.com/assets/colab-badge.svg\" alt=\"Open In Colab\"/></a>"
      ]
    },
    {
      "cell_type": "code",
      "source": [
        "#Faça um programa que leia três números e mostre qual é o maior e qual é o menor.\n",
        "\n",
        "n1 = int(input('Digite um número: '))\n",
        "n2 = int(input('Digite outro número: '))\n",
        "n3 = int(input('Digite mais um número: '))\n",
        "\n",
        "print('O maior número é: ', max(n1, n2, n3))\n",
        "print('O menor número é: ', min(n1, n2, n3))"
      ],
      "metadata": {
        "colab": {
          "base_uri": "https://localhost:8080/"
        },
        "id": "3Pu2cIAd88vb",
        "outputId": "9fda53e7-425d-4f19-ade5-b6200576630a"
      },
      "execution_count": 20,
      "outputs": [
        {
          "output_type": "stream",
          "name": "stdout",
          "text": [
            "Digite um número: 3\n",
            "Digite outro número: 9\n",
            "Digite mais um número: 2\n",
            "O maior número é:  9\n",
            "O menor número é:  2\n"
          ]
        }
      ]
    }
  ]
}