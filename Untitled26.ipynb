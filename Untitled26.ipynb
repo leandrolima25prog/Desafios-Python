{
  "nbformat": 4,
  "nbformat_minor": 0,
  "metadata": {
    "colab": {
      "provenance": [],
      "authorship_tag": "ABX9TyME7AF6WfOKuwbOlApTNKuW",
      "include_colab_link": true
    },
    "kernelspec": {
      "name": "python3",
      "display_name": "Python 3"
    },
    "language_info": {
      "name": "python"
    }
  },
  "cells": [
    {
      "cell_type": "markdown",
      "metadata": {
        "id": "view-in-github",
        "colab_type": "text"
      },
      "source": [
        "<a href=\"https://colab.research.google.com/github/leandrolima25prog/Desafios-Python/blob/main/Untitled26.ipynb\" target=\"_parent\"><img src=\"https://colab.research.google.com/assets/colab-badge.svg\" alt=\"Open In Colab\"/></a>"
      ]
    },
    {
      "cell_type": "code",
      "execution_count": 10,
      "metadata": {
        "colab": {
          "base_uri": "https://localhost:8080/"
        },
        "id": "Tx9SNLgN4LCZ",
        "outputId": "f882d017-f55f-43d9-9138-6e761b9ee62b"
      },
      "outputs": [
        {
          "output_type": "stream",
          "name": "stdout",
          "text": [
            "-=--=--=--=--=--=--=--=--=--=--=--=--=--=--=--=--=--=--=--=-\n",
            "Vou pensar em um número entre 0 e 5. Tente adivinhar...\n",
            "-=--=--=--=--=--=--=--=--=--=--=--=--=--=--=--=--=--=--=--=-\n",
            "Em que número eu pensei? 3\n",
            "PROCESSANDO...\n",
            "PARABÉNS! Você conseguiu me vencer!\n"
          ]
        }
      ],
      "source": [
        "from os import times\n",
        "#Escreva um programa que faça o computador “pensar” em um número inteiro entre 0 e 5 e peça para o usuário tentar descobrir qual foi o número escolhido pelo computador.\n",
        "#O programa deverá escrever na tela se o usuário venceu ou perdeu.\n",
        "\n",
        "from random import randint\n",
        "from time import sleep\n",
        "computador = randint(0, 5)\n",
        "print('-=-' * 20)\n",
        "print('Vou pensar em um número entre 0 e 5. Tente adivinhar...')\n",
        "print('-=-' * 20)\n",
        "jogador = int(input('Em que número eu pensei? '))\n",
        "print('PROCESSANDO...')\n",
        "sleep(3)\n",
        "if jogador == computador:\n",
        "    print('PARABÉNS! Você conseguiu me vencer!')\n",
        "else:\n",
        "  print('GANHEI! Eu pensei no número {} e não no {}!'.format(computador, jogador))"
      ]
    }
  ]
}