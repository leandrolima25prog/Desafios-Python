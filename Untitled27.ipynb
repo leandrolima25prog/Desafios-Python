{
  "nbformat": 4,
  "nbformat_minor": 0,
  "metadata": {
    "colab": {
      "provenance": [],
      "authorship_tag": "ABX9TyM8z/ftCzFlNtQrVCFEyrlk",
      "include_colab_link": true
    },
    "kernelspec": {
      "name": "python3",
      "display_name": "Python 3"
    },
    "language_info": {
      "name": "python"
    }
  },
  "cells": [
    {
      "cell_type": "markdown",
      "metadata": {
        "id": "view-in-github",
        "colab_type": "text"
      },
      "source": [
        "<a href=\"https://colab.research.google.com/github/leandrolima25prog/Desafios-Python/blob/main/Untitled27.ipynb\" target=\"_parent\"><img src=\"https://colab.research.google.com/assets/colab-badge.svg\" alt=\"Open In Colab\"/></a>"
      ]
    },
    {
      "cell_type": "code",
      "source": [
        "#Escreva um programa que leia a velocidade de um carro. Se ele ultrapassar\n",
        "#80Km/h, mostre uma mensagem dizendo que ele foi multado. A multa vai custar R$7,00 por cada\n",
        "#Km acima do limite.\n",
        "\n",
        "velocidade = float(input('Qual a velocidade do carro? '))\n",
        "if velocidade > 80:\n",
        "    print('MULTADO! Você excedeu o limite permitido que é de 80Km/h')\n",
        "    multa = (velocidade-80) * 7\n",
        "    print('Você deve pagar uma multa de R${:.2f}!'.format(multa))\n",
        "print('Tenha um bom dia! Dirija com segurança!')"
      ],
      "metadata": {
        "colab": {
          "base_uri": "https://localhost:8080/"
        },
        "id": "3Pu2cIAd88vb",
        "outputId": "bc260fe4-af40-418c-fef9-af1246124600"
      },
      "execution_count": 12,
      "outputs": [
        {
          "output_type": "stream",
          "name": "stdout",
          "text": [
            "Qual a velocidade do carro? 120\n",
            "MULTADO! Você excedeu o limite permitido que é de 80Km/h\n",
            "Você deve pagar uma multa de R$280.00!\n",
            "Tenha um bom dia! Dirija com segurança!\n"
          ]
        }
      ]
    }
  ]
}