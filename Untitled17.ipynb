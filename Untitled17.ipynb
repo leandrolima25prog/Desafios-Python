{
  "nbformat": 4,
  "nbformat_minor": 0,
  "metadata": {
    "colab": {
      "provenance": [],
      "authorship_tag": "ABX9TyNNxwLcjhcly+znv3u755zC",
      "include_colab_link": true
    },
    "kernelspec": {
      "name": "python3",
      "display_name": "Python 3"
    },
    "language_info": {
      "name": "python"
    }
  },
  "cells": [
    {
      "cell_type": "markdown",
      "metadata": {
        "id": "view-in-github",
        "colab_type": "text"
      },
      "source": [
        "<a href=\"https://colab.research.google.com/github/leandrolima25prog/Desafios-Python/blob/main/Untitled17.ipynb\" target=\"_parent\"><img src=\"https://colab.research.google.com/assets/colab-badge.svg\" alt=\"Open In Colab\"/></a>"
      ]
    },
    {
      "cell_type": "code",
      "source": [
        "# sortear a ordem de nomes digitados utilizando o (random)\n",
        "import random\n",
        "a1 = input('Digite o nome do primeiro aluno: ')\n",
        "a2 = input('Digite o nome do segundo aluno: ')\n",
        "a3 = input('Digite o nome do terceiro aluno: ')\n",
        "a4 = input('Digite o nome do quarto aluno: ')\n",
        "\n",
        "lista = [a1, a2, a3, a4]\n",
        "random.shuffle(lista)\n",
        "print('A ordem de apresentação será: ')\n",
        "print(lista)\n"
      ],
      "metadata": {
        "colab": {
          "base_uri": "https://localhost:8080/"
        },
        "id": "b8RhQXP4tKoL",
        "outputId": "aaf4e428-15b7-4dad-d47f-48e7d69f60d7"
      },
      "execution_count": 76,
      "outputs": [
        {
          "output_type": "stream",
          "name": "stdout",
          "text": [
            "Digite o nome do primeiro aluno: ana\n",
            "Digite o nome do segundo aluno: paulo\n",
            "Digite o nome do terceiro aluno: creuza\n",
            "Digite o nome do quarto aluno: teves\n",
            "A ordem de apresentação será: \n",
            "['ana', 'teves', 'paulo', 'creuza']\n"
          ]
        }
      ]
    }
  ]
}